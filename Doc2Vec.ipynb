{
  "nbformat": 4,
  "nbformat_minor": 0,
  "metadata": {
    "colab": {
      "name": "Doc2Vec",
      "version": "0.3.2",
      "provenance": []
    },
    "kernelspec": {
      "name": "python3",
      "display_name": "Python 3"
    },
    "accelerator": "GPU"
  },
  "cells": [
    {
      "cell_type": "code",
      "metadata": {
        "id": "l6Z4YERln6vd",
        "colab_type": "code",
        "colab": {
          "base_uri": "https://localhost:8080/",
          "height": 353
        },
        "outputId": "39c15e90-d12b-4235-8d6b-83a6eddfb9c8"
      },
      "source": [
        "import os\n",
        "if not os.path.exists(\"glove.6B.zip\"):\n",
        "  !wget http://nlp.stanford.edu/data/wordvecs/glove.6B.zip\n",
        "  get_ipython().system_raw(\"unzip glove.6B.zip\")"
      ],
      "execution_count": 1,
      "outputs": [
        {
          "output_type": "stream",
          "text": [
            "--2019-08-26 11:02:46--  http://nlp.stanford.edu/data/wordvecs/glove.6B.zip\n",
            "Resolving nlp.stanford.edu (nlp.stanford.edu)... 171.64.67.140\n",
            "Connecting to nlp.stanford.edu (nlp.stanford.edu)|171.64.67.140|:80... connected.\n",
            "HTTP request sent, awaiting response... 302 Found\n",
            "Location: https://nlp.stanford.edu/data/wordvecs/glove.6B.zip [following]\n",
            "--2019-08-26 11:02:46--  https://nlp.stanford.edu/data/wordvecs/glove.6B.zip\n",
            "Connecting to nlp.stanford.edu (nlp.stanford.edu)|171.64.67.140|:443... connected.\n",
            "HTTP request sent, awaiting response... 301 Moved Permanently\n",
            "Location: http://downloads.cs.stanford.edu/nlp/data/wordvecs/glove.6B.zip [following]\n",
            "--2019-08-26 11:02:47--  http://downloads.cs.stanford.edu/nlp/data/wordvecs/glove.6B.zip\n",
            "Resolving downloads.cs.stanford.edu (downloads.cs.stanford.edu)... 171.64.64.22\n",
            "Connecting to downloads.cs.stanford.edu (downloads.cs.stanford.edu)|171.64.64.22|:80... connected.\n",
            "HTTP request sent, awaiting response... 200 OK\n",
            "Length: 862182753 (822M) [application/zip]\n",
            "Saving to: ‘glove.6B.zip’\n",
            "\n",
            "glove.6B.zip        100%[===================>] 822.24M  38.1MB/s    in 22s     \n",
            "\n",
            "2019-08-26 11:03:09 (37.7 MB/s) - ‘glove.6B.zip’ saved [862182753/862182753]\n",
            "\n"
          ],
          "name": "stdout"
        }
      ]
    },
    {
      "cell_type": "code",
      "metadata": {
        "id": "z8dsFEHLfxvu",
        "colab_type": "code",
        "colab": {}
      },
      "source": [
        "glove={}\n",
        "\n",
        "file = open(\"glove.6B.50d.txt\",\"r\")\n",
        "for i in file:\n",
        "  v = i.split(\" \")\n",
        "  temp=[]\n",
        "  for j in v[1:]:\n",
        "    temp.append(float(j))\n",
        "  glove[v[0]] = temp"
      ],
      "execution_count": 0,
      "outputs": []
    },
    {
      "cell_type": "code",
      "metadata": {
        "id": "8YBPM5eWgRrr",
        "colab_type": "code",
        "outputId": "662913e9-3631-4631-8420-373dbfcd102c",
        "colab": {
          "base_uri": "https://localhost:8080/",
          "height": 857
        }
      },
      "source": [
        "glove['me']"
      ],
      "execution_count": 3,
      "outputs": [
        {
          "output_type": "execute_result",
          "data": {
            "text/plain": [
              "[-0.14525,\n",
              " 0.31265,\n",
              " 0.15184,\n",
              " -0.63708,\n",
              " 0.63553,\n",
              " -0.50295,\n",
              " -0.23214,\n",
              " 0.52892,\n",
              " -0.58629,\n",
              " 0.53935,\n",
              " -0.3055,\n",
              " 1.0357,\n",
              " -0.77989,\n",
              " -0.19387,\n",
              " 1.2215,\n",
              " 0.24521,\n",
              " 0.26144,\n",
              " 0.22439,\n",
              " 0.15584,\n",
              " -0.79146,\n",
              " -0.65262,\n",
              " 1.3211,\n",
              " 0.76618,\n",
              " 0.38234,\n",
              " 1.4453,\n",
              " -2.2643,\n",
              " -1.1505,\n",
              " 0.50373,\n",
              " 1.2651,\n",
              " -1.5903,\n",
              " 3.0518,\n",
              " 0.84118,\n",
              " -0.69543,\n",
              " 0.29985,\n",
              " -0.49151,\n",
              " -0.22312,\n",
              " 0.59528,\n",
              " -0.076347,\n",
              " 0.52358,\n",
              " -0.50134,\n",
              " 0.22483,\n",
              " 0.01546,\n",
              " -0.088005,\n",
              " 0.21282,\n",
              " 0.28545,\n",
              " -0.15976,\n",
              " -0.16777,\n",
              " -0.50895,\n",
              " 0.14322,\n",
              " 1.0118]"
            ]
          },
          "metadata": {
            "tags": []
          },
          "execution_count": 3
        }
      ]
    },
    {
      "cell_type": "code",
      "metadata": {
        "id": "juXw5rm1gemf",
        "colab_type": "code",
        "outputId": "47951aee-8c0e-4107-c5bd-0a537dc71433",
        "colab": {
          "base_uri": "https://localhost:8080/",
          "height": 84
        }
      },
      "source": [
        "import nltk\n",
        "nltk.download(\"punkt\")\n",
        "nltk.download(\"stopwords\")\n",
        "from nltk.tokenize import word_tokenize , sent_tokenize\n",
        "from nltk.corpus import stopwords\n",
        "stopwords = stopwords.words(\"english\")"
      ],
      "execution_count": 4,
      "outputs": [
        {
          "output_type": "stream",
          "text": [
            "[nltk_data] Downloading package punkt to /root/nltk_data...\n",
            "[nltk_data]   Unzipping tokenizers/punkt.zip.\n",
            "[nltk_data] Downloading package stopwords to /root/nltk_data...\n",
            "[nltk_data]   Unzipping corpora/stopwords.zip.\n"
          ],
          "name": "stdout"
        }
      ]
    },
    {
      "cell_type": "code",
      "metadata": {
        "id": "7BE2U8osgWa2",
        "colab_type": "code",
        "colab": {}
      },
      "source": [
        "import numpy as np\n",
        "def document_vec(text):\n",
        "  doc_vec = np.zeros(50,dtype=float)\n",
        "  count=0\n",
        "  sentences = sent_tokenize(text)\n",
        "  for i in sentences:\n",
        "    \n",
        "    count+=1\n",
        "    words = word_tokenize(i)\n",
        "    sent_vec = np.zeros(50)\n",
        "    word_l=0\n",
        "    for word in words:\n",
        "      if word not in stopwords:\n",
        "        if word in glove:\n",
        "          word_l+=1\n",
        "          sent_vec = np.add(glove[word.lower()] , sent_vec)\n",
        "    sent_vec = np.divide(sent_vec,word_l)\n",
        "    doc_vec = np.add(sent_vec,doc_vec)\n",
        "#     print(sent_vec)\n",
        "  return [np.divide(doc_vec,count)]\n",
        "   "
      ],
      "execution_count": 0,
      "outputs": []
    },
    {
      "cell_type": "code",
      "metadata": {
        "id": "dkIGF7FzjQWr",
        "colab_type": "code",
        "colab": {
          "base_uri": "https://localhost:8080/",
          "height": 454
        },
        "outputId": "404b6679-bf4e-4f32-d427-87e3d894ad79"
      },
      "source": [
        "sim = document_vec(\"Deep learing is part of my family.\")\n",
        "sim1 = document_vec(\"Deep learning is part of a broader family of machine learning methods based on artificial neural networks. Learning can be supervised, semi-supervised or unsupervised.\")\n",
        "print(sim)\n",
        "print(sim1)\n",
        "from sklearn.metrics.pairwise import cosine_similarity\n",
        "\n",
        "similarity = cosine_similarity(sim1,sim)\n",
        "l=[]\n",
        "print(similarity)\n",
        "for i in similarity:\n",
        "  l.append(sum(i))\n",
        "  print(l)\n",
        "print(\"%.4f\" % (sum(l)))"
      ],
      "execution_count": 15,
      "outputs": [
        {
          "output_type": "stream",
          "text": [
            "[array([ 0.67342667,  0.46272667, -0.55409333,  0.2244999 ,  0.714589  ,\n",
            "        0.52149333, -0.63381667, -0.10351367, -0.26776333, -0.47393333,\n",
            "        0.08315987,  0.15485   , -0.05390333, -0.52794333,  0.508178  ,\n",
            "        0.20216667, -0.22963333,  0.17870067, -0.29753   ,  0.10136333,\n",
            "        0.18792273,  0.05134867, -0.05409   ,  0.287785  , -0.05855867,\n",
            "       -1.56366667, -0.52640333, -0.23898367,  0.20830033,  0.00979   ,\n",
            "        3.29993333, -0.1521572 , -0.114263  , -0.36783333,  0.18935867,\n",
            "       -0.02519533, -0.17889667, -0.01601467,  0.16532333, -0.02574833,\n",
            "       -0.18463456,  0.024959  , -0.094967  ,  0.01237667, -0.17270333,\n",
            "        0.16613   , -0.394641  , -0.60969667, -0.13904467,  0.01974333])]\n",
            "[array([ 3.49940125e-01,  5.33991667e-02, -1.09866792e-01,  8.43363208e-02,\n",
            "        3.57235833e-02,  3.71449846e-01, -2.84612917e-01, -3.98049375e-01,\n",
            "        3.04524167e-02,  3.39095000e-02,  1.97896400e-01, -7.19054583e-02,\n",
            "       -9.35683333e-02, -1.19482667e-01,  9.24385000e-02,  1.89121833e-01,\n",
            "       -1.19414500e-01,  1.75003250e-01,  1.16608333e-01, -8.72897917e-02,\n",
            "        3.25566092e-01,  3.50966417e-01,  8.97230125e-02,  1.41535583e-01,\n",
            "        6.23566667e-02, -7.73587917e-01, -9.07916667e-04, -3.56823875e-01,\n",
            "        2.34679875e-01, -7.28512500e-02,  2.62834042e+00, -1.78029017e-01,\n",
            "       -3.36930333e-01, -6.94635000e-01,  1.24539542e-01,  1.75378500e-01,\n",
            "        3.01990833e-02,  3.01822875e-01,  1.17879708e-01,  2.10387167e-01,\n",
            "       -6.36666135e-02, -2.04468792e-01,  1.07479583e-02,  4.90318333e-01,\n",
            "       -5.68643333e-02, -3.35349333e-01,  2.30116583e-01, -5.93629167e-02,\n",
            "       -1.39646917e-01,  2.14977833e-01])]\n",
            "[[0.84319786]]\n",
            "[0.8431978573540246]\n",
            "0.8432\n"
          ],
          "name": "stdout"
        }
      ]
    }
  ]
}